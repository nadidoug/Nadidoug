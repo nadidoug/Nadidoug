{
  "nbformat": 4,
  "nbformat_minor": 0,
  "metadata": {
    "colab": {
      "provenance": [],
      "authorship_tag": "ABX9TyMsxXPQp0SbtI8DS5f+L+T7",
      "include_colab_link": true
    },
    "kernelspec": {
      "name": "python3",
      "display_name": "Python 3"
    },
    "language_info": {
      "name": "python"
    }
  },
  "cells": [
    {
      "cell_type": "markdown",
      "metadata": {
        "id": "view-in-github",
        "colab_type": "text"
      },
      "source": [
        "<a href=\"https://colab.research.google.com/github/nadidoug/Nadidoug/blob/master/My.ipynb\" target=\"_parent\"><img src=\"https://colab.research.google.com/assets/colab-badge.svg\" alt=\"Open In Colab\"/></a>"
      ]
    },
    {
      "cell_type": "code",
      "execution_count": null,
      "metadata": {
        "id": "6tP4FdpxAt7P",
        "collapsed": true,
        "outputId": "4fb382a1-9fad-455b-e938-e89ec64f85be",
        "colab": {
          "base_uri": "https://localhost:8080/"
        }
      },
      "outputs": [
        {
          "output_type": "stream",
          "name": "stdout",
          "text": [
            "What is your name? Nadi\n",
            "Hello,Nadi\n",
            "What is your email? me\n",
            "Your email is me\n",
            "Would you like to leave a phone number?\n",
            "Do you want to leave a phone number? (yes/no): fuck no\n",
            "Would you like to sign up\n",
            "Do you want to sign up? (yes/no): no\n",
            "You have not signed up\n"
          ]
        }
      ],
      "source": [
        "#ask user their name\n",
        "name = input (\"What is your name? \")\n",
        "#say helllo to user\n",
        "print (\"Hello,\"  +  name)\n",
        "#ask user for their email\n",
        "email = input (\"What is your email? \")\n",
        "#print email\n",
        "print (\"Your email is \" + email )\n",
        "#ask user for phone number\n",
        "print (\"Would you like to leave a phone number?\")\n",
        "choice = input (\"Do you want to leave a phone number? (yes/no): \")\n",
        "if choice == \"yes\":\n",
        "    print (\"You have left a phone number\")\n",
        "elif choice == \"no\":\n",
        "    print (\"You have not left a phone number\")\n",
        "\n",
        "#ask user if they would like to sign up\n",
        "print (\"Would you like to sign up\")\n",
        "#ask user yes or no\n",
        "choice = input (\"Do you want to sign up? (yes/no): \")\n",
        "if choice == \"yes\":\n",
        "    print (\"You have signed up\")\n",
        "elif choice == \"no\":\n",
        "    print (\"You have not signed up\")\n",
        "\n"
      ]
    },
    {
      "cell_type": "code",
      "source": [],
      "metadata": {
        "id": "rLf7e9e6L6Zv"
      },
      "execution_count": null,
      "outputs": []
    }
  ]
}